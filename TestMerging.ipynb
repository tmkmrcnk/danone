{
 "cells": [
  {
   "cell_type": "code",
   "execution_count": 1,
   "metadata": {},
   "outputs": [
    {
     "data": {
      "text/html": [
       "<style>.container { width:99% !important; }</style>"
      ],
      "text/plain": [
       "<IPython.core.display.HTML object>"
      ]
     },
     "metadata": {},
     "output_type": "display_data"
    }
   ],
   "source": [
    "import sys\n",
    "from time import time\n",
    "from pathlib import Path\n",
    "\n",
    "import pandas as pd\n",
    "import matplotlib.pyplot as plt\n",
    "import seaborn as sns\n",
    "\n",
    "from IPython.core.display import display, HTML\n",
    "display(HTML(\"<style>.container { width:99% !important; }</style>\"))"
   ]
  },
  {
   "cell_type": "markdown",
   "metadata": {},
   "source": [
    "### Load the measurements and production data."
   ]
  },
  {
   "cell_type": "code",
   "execution_count": 2,
   "metadata": {},
   "outputs": [],
   "source": [
    "# specify time range and number of production events\n",
    "time_range_key = '1d'\n",
    "prod_count = 1000 if time_range_key == '1y' else 100 if time_range_key == '1m' else 10"
   ]
  },
  {
   "cell_type": "code",
   "execution_count": 3,
   "metadata": {},
   "outputs": [],
   "source": [
    "# all data will be read from or stored under this folder\n",
    "DATA_DIR = Path('data')\n",
    "\n",
    "measurements_file = DATA_DIR / F\"measurements-dummy-{time_range_key}.csv\"\n",
    "prod_file = DATA_DIR / F\"production-dummy-{prod_count}-{time_range_key}.csv\""
   ]
  },
  {
   "cell_type": "code",
   "execution_count": 4,
   "metadata": {},
   "outputs": [
    {
     "data": {
      "text/html": [
       "<div>\n",
       "<style scoped>\n",
       "    .dataframe tbody tr th:only-of-type {\n",
       "        vertical-align: middle;\n",
       "    }\n",
       "\n",
       "    .dataframe tbody tr th {\n",
       "        vertical-align: top;\n",
       "    }\n",
       "\n",
       "    .dataframe thead th {\n",
       "        text-align: right;\n",
       "    }\n",
       "</style>\n",
       "<table border=\"1\" class=\"dataframe\">\n",
       "  <thead>\n",
       "    <tr style=\"text-align: right;\">\n",
       "      <th></th>\n",
       "      <th>timestamp</th>\n",
       "      <th>m1</th>\n",
       "      <th>m2</th>\n",
       "      <th>m3</th>\n",
       "      <th>m4</th>\n",
       "      <th>m5</th>\n",
       "    </tr>\n",
       "  </thead>\n",
       "  <tbody>\n",
       "    <tr>\n",
       "      <th>0</th>\n",
       "      <td>2018-01-01 00:00:00</td>\n",
       "      <td>66.780494</td>\n",
       "      <td>65.217221</td>\n",
       "      <td>48.842714</td>\n",
       "      <td>51.054600</td>\n",
       "      <td>56.330693</td>\n",
       "    </tr>\n",
       "    <tr>\n",
       "      <th>1</th>\n",
       "      <td>2018-01-01 00:00:30</td>\n",
       "      <td>57.675873</td>\n",
       "      <td>82.594139</td>\n",
       "      <td>67.128019</td>\n",
       "      <td>34.646194</td>\n",
       "      <td>49.404110</td>\n",
       "    </tr>\n",
       "    <tr>\n",
       "      <th>2</th>\n",
       "      <td>2018-01-01 00:01:00</td>\n",
       "      <td>65.254882</td>\n",
       "      <td>51.663527</td>\n",
       "      <td>49.967143</td>\n",
       "      <td>53.994720</td>\n",
       "      <td>27.718782</td>\n",
       "    </tr>\n",
       "    <tr>\n",
       "      <th>3</th>\n",
       "      <td>2018-01-01 00:01:30</td>\n",
       "      <td>48.868397</td>\n",
       "      <td>23.830365</td>\n",
       "      <td>63.191482</td>\n",
       "      <td>53.418901</td>\n",
       "      <td>61.711849</td>\n",
       "    </tr>\n",
       "    <tr>\n",
       "      <th>4</th>\n",
       "      <td>2018-01-01 00:02:00</td>\n",
       "      <td>55.270477</td>\n",
       "      <td>16.035617</td>\n",
       "      <td>46.767995</td>\n",
       "      <td>31.731472</td>\n",
       "      <td>60.183277</td>\n",
       "    </tr>\n",
       "  </tbody>\n",
       "</table>\n",
       "</div>"
      ],
      "text/plain": [
       "            timestamp         m1         m2         m3         m4         m5\n",
       "0 2018-01-01 00:00:00  66.780494  65.217221  48.842714  51.054600  56.330693\n",
       "1 2018-01-01 00:00:30  57.675873  82.594139  67.128019  34.646194  49.404110\n",
       "2 2018-01-01 00:01:00  65.254882  51.663527  49.967143  53.994720  27.718782\n",
       "3 2018-01-01 00:01:30  48.868397  23.830365  63.191482  53.418901  61.711849\n",
       "4 2018-01-01 00:02:00  55.270477  16.035617  46.767995  31.731472  60.183277"
      ]
     },
     "execution_count": 4,
     "metadata": {},
     "output_type": "execute_result"
    }
   ],
   "source": [
    "measure_df = pd.read_csv(measurements_file)\n",
    "measure_df['timestamp'] = measure_df['timestamp'].apply(lambda x: pd.Timestamp(x))\n",
    "measure_df.head()"
   ]
  },
  {
   "cell_type": "code",
   "execution_count": 5,
   "metadata": {},
   "outputs": [
    {
     "data": {
      "text/html": [
       "<div>\n",
       "<style scoped>\n",
       "    .dataframe tbody tr th:only-of-type {\n",
       "        vertical-align: middle;\n",
       "    }\n",
       "\n",
       "    .dataframe tbody tr th {\n",
       "        vertical-align: top;\n",
       "    }\n",
       "\n",
       "    .dataframe thead th {\n",
       "        text-align: right;\n",
       "    }\n",
       "</style>\n",
       "<table border=\"1\" class=\"dataframe\">\n",
       "  <thead>\n",
       "    <tr style=\"text-align: right;\">\n",
       "      <th></th>\n",
       "      <th>duration</th>\n",
       "      <th>finished_time</th>\n",
       "      <th>efficiency</th>\n",
       "    </tr>\n",
       "  </thead>\n",
       "  <tbody>\n",
       "    <tr>\n",
       "      <th>0</th>\n",
       "      <td>90</td>\n",
       "      <td>2018-01-01 03:00:04</td>\n",
       "      <td>51.108762</td>\n",
       "    </tr>\n",
       "    <tr>\n",
       "      <th>1</th>\n",
       "      <td>90</td>\n",
       "      <td>2018-01-01 04:30:06</td>\n",
       "      <td>27.203295</td>\n",
       "    </tr>\n",
       "    <tr>\n",
       "      <th>2</th>\n",
       "      <td>90</td>\n",
       "      <td>2018-01-01 06:00:08</td>\n",
       "      <td>98.806322</td>\n",
       "    </tr>\n",
       "    <tr>\n",
       "      <th>3</th>\n",
       "      <td>90</td>\n",
       "      <td>2018-01-01 09:00:12</td>\n",
       "      <td>50.763437</td>\n",
       "    </tr>\n",
       "    <tr>\n",
       "      <th>4</th>\n",
       "      <td>90</td>\n",
       "      <td>2018-01-01 10:30:14</td>\n",
       "      <td>53.172586</td>\n",
       "    </tr>\n",
       "  </tbody>\n",
       "</table>\n",
       "</div>"
      ],
      "text/plain": [
       "   duration       finished_time  efficiency\n",
       "0        90 2018-01-01 03:00:04   51.108762\n",
       "1        90 2018-01-01 04:30:06   27.203295\n",
       "2        90 2018-01-01 06:00:08   98.806322\n",
       "3        90 2018-01-01 09:00:12   50.763437\n",
       "4        90 2018-01-01 10:30:14   53.172586"
      ]
     },
     "execution_count": 5,
     "metadata": {},
     "output_type": "execute_result"
    }
   ],
   "source": [
    "prod_df = pd.read_csv(prod_file)\n",
    "prod_df['finished_time'] = prod_df['finished_time'].apply(lambda x: pd.Timestamp(x))\n",
    "prod_df.head()"
   ]
  },
  {
   "cell_type": "markdown",
   "metadata": {},
   "source": [
    "### Merge v1"
   ]
  },
  {
   "cell_type": "code",
   "execution_count": 25,
   "metadata": {},
   "outputs": [
    {
     "name": "stdout",
     "output_type": "stream",
     "text": [
      "Done! Total time: 11.3038s, Time per measurement: 3.9249ms\n"
     ]
    },
    {
     "data": {
      "text/html": [
       "<div>\n",
       "<style scoped>\n",
       "    .dataframe tbody tr th:only-of-type {\n",
       "        vertical-align: middle;\n",
       "    }\n",
       "\n",
       "    .dataframe tbody tr th {\n",
       "        vertical-align: top;\n",
       "    }\n",
       "\n",
       "    .dataframe thead th {\n",
       "        text-align: right;\n",
       "    }\n",
       "</style>\n",
       "<table border=\"1\" class=\"dataframe\">\n",
       "  <thead>\n",
       "    <tr style=\"text-align: right;\">\n",
       "      <th></th>\n",
       "      <th>timestamp</th>\n",
       "      <th>m1</th>\n",
       "      <th>m2</th>\n",
       "      <th>m3</th>\n",
       "      <th>m4</th>\n",
       "      <th>m5</th>\n",
       "      <th>finished_time</th>\n",
       "      <th>debug_time</th>\n",
       "      <th>debug_time_ms</th>\n",
       "    </tr>\n",
       "  </thead>\n",
       "  <tbody>\n",
       "    <tr>\n",
       "      <th>0</th>\n",
       "      <td>2018-01-01 00:00:00</td>\n",
       "      <td>66.780494</td>\n",
       "      <td>65.217221</td>\n",
       "      <td>48.842714</td>\n",
       "      <td>51.054600</td>\n",
       "      <td>56.330693</td>\n",
       "      <td>NaT</td>\n",
       "      <td>3998000.0</td>\n",
       "      <td>3.998</td>\n",
       "    </tr>\n",
       "    <tr>\n",
       "      <th>1</th>\n",
       "      <td>2018-01-01 00:00:30</td>\n",
       "      <td>57.675873</td>\n",
       "      <td>82.594139</td>\n",
       "      <td>67.128019</td>\n",
       "      <td>34.646194</td>\n",
       "      <td>49.404110</td>\n",
       "      <td>NaT</td>\n",
       "      <td>3999000.0</td>\n",
       "      <td>3.999</td>\n",
       "    </tr>\n",
       "    <tr>\n",
       "      <th>2</th>\n",
       "      <td>2018-01-01 00:01:00</td>\n",
       "      <td>65.254882</td>\n",
       "      <td>51.663527</td>\n",
       "      <td>49.967143</td>\n",
       "      <td>53.994720</td>\n",
       "      <td>27.718782</td>\n",
       "      <td>NaT</td>\n",
       "      <td>3998000.0</td>\n",
       "      <td>3.998</td>\n",
       "    </tr>\n",
       "    <tr>\n",
       "      <th>3</th>\n",
       "      <td>2018-01-01 00:01:30</td>\n",
       "      <td>48.868397</td>\n",
       "      <td>23.830365</td>\n",
       "      <td>63.191482</td>\n",
       "      <td>53.418901</td>\n",
       "      <td>61.711849</td>\n",
       "      <td>NaT</td>\n",
       "      <td>3998000.0</td>\n",
       "      <td>3.998</td>\n",
       "    </tr>\n",
       "    <tr>\n",
       "      <th>4</th>\n",
       "      <td>2018-01-01 00:02:00</td>\n",
       "      <td>55.270477</td>\n",
       "      <td>16.035617</td>\n",
       "      <td>46.767995</td>\n",
       "      <td>31.731472</td>\n",
       "      <td>60.183277</td>\n",
       "      <td>NaT</td>\n",
       "      <td>3998000.0</td>\n",
       "      <td>3.998</td>\n",
       "    </tr>\n",
       "    <tr>\n",
       "      <th>5</th>\n",
       "      <td>2018-01-01 00:02:30</td>\n",
       "      <td>90.993282</td>\n",
       "      <td>65.538728</td>\n",
       "      <td>66.939610</td>\n",
       "      <td>31.225604</td>\n",
       "      <td>47.898509</td>\n",
       "      <td>NaT</td>\n",
       "      <td>4003000.0</td>\n",
       "      <td>4.003</td>\n",
       "    </tr>\n",
       "    <tr>\n",
       "      <th>6</th>\n",
       "      <td>2018-01-01 00:03:00</td>\n",
       "      <td>53.247141</td>\n",
       "      <td>57.772422</td>\n",
       "      <td>46.519145</td>\n",
       "      <td>48.474841</td>\n",
       "      <td>33.584204</td>\n",
       "      <td>NaT</td>\n",
       "      <td>3989000.0</td>\n",
       "      <td>3.989</td>\n",
       "    </tr>\n",
       "    <tr>\n",
       "      <th>7</th>\n",
       "      <td>2018-01-01 00:03:30</td>\n",
       "      <td>61.078843</td>\n",
       "      <td>34.535699</td>\n",
       "      <td>45.316311</td>\n",
       "      <td>24.901166</td>\n",
       "      <td>65.901114</td>\n",
       "      <td>NaT</td>\n",
       "      <td>2998000.0</td>\n",
       "      <td>2.998</td>\n",
       "    </tr>\n",
       "    <tr>\n",
       "      <th>8</th>\n",
       "      <td>2018-01-01 00:04:00</td>\n",
       "      <td>44.674500</td>\n",
       "      <td>55.189079</td>\n",
       "      <td>34.085690</td>\n",
       "      <td>35.149121</td>\n",
       "      <td>37.953871</td>\n",
       "      <td>NaT</td>\n",
       "      <td>2998000.0</td>\n",
       "      <td>2.998</td>\n",
       "    </tr>\n",
       "    <tr>\n",
       "      <th>9</th>\n",
       "      <td>2018-01-01 00:04:30</td>\n",
       "      <td>57.911878</td>\n",
       "      <td>51.677746</td>\n",
       "      <td>45.655924</td>\n",
       "      <td>75.952376</td>\n",
       "      <td>25.007941</td>\n",
       "      <td>NaT</td>\n",
       "      <td>3000000.0</td>\n",
       "      <td>3.000</td>\n",
       "    </tr>\n",
       "  </tbody>\n",
       "</table>\n",
       "</div>"
      ],
      "text/plain": [
       "            timestamp         m1         m2         m3         m4         m5  \\\n",
       "0 2018-01-01 00:00:00  66.780494  65.217221  48.842714  51.054600  56.330693   \n",
       "1 2018-01-01 00:00:30  57.675873  82.594139  67.128019  34.646194  49.404110   \n",
       "2 2018-01-01 00:01:00  65.254882  51.663527  49.967143  53.994720  27.718782   \n",
       "3 2018-01-01 00:01:30  48.868397  23.830365  63.191482  53.418901  61.711849   \n",
       "4 2018-01-01 00:02:00  55.270477  16.035617  46.767995  31.731472  60.183277   \n",
       "5 2018-01-01 00:02:30  90.993282  65.538728  66.939610  31.225604  47.898509   \n",
       "6 2018-01-01 00:03:00  53.247141  57.772422  46.519145  48.474841  33.584204   \n",
       "7 2018-01-01 00:03:30  61.078843  34.535699  45.316311  24.901166  65.901114   \n",
       "8 2018-01-01 00:04:00  44.674500  55.189079  34.085690  35.149121  37.953871   \n",
       "9 2018-01-01 00:04:30  57.911878  51.677746  45.655924  75.952376  25.007941   \n",
       "\n",
       "  finished_time  debug_time  debug_time_ms  \n",
       "0           NaT   3998000.0          3.998  \n",
       "1           NaT   3999000.0          3.999  \n",
       "2           NaT   3998000.0          3.998  \n",
       "3           NaT   3998000.0          3.998  \n",
       "4           NaT   3998000.0          3.998  \n",
       "5           NaT   4003000.0          4.003  \n",
       "6           NaT   3989000.0          3.989  \n",
       "7           NaT   2998000.0          2.998  \n",
       "8           NaT   2998000.0          2.998  \n",
       "9           NaT   3000000.0          3.000  "
      ]
     },
     "execution_count": 25,
     "metadata": {},
     "output_type": "execute_result"
    }
   ],
   "source": [
    "nano2sec = lambda x: x / 10 ** 9 # convert nanoseconds to seconds\n",
    "nano2milli = lambda x: x / 10 ** 6  # convert nanoseconds to milliseconds\n",
    "\n",
    "def merge_v1(ts, prod_df):\n",
    "    '''\n",
    "    add to each measurement the production finished time\n",
    "    if (measure.timestamp > finished_time - duration) and (measure.timestamp < finished_time)\n",
    "    '''\n",
    "    t0 = pd.Timestamp.now()\n",
    "    prod_results = prod_df.loc[(ts <= prod_df.finished_time) & (ts >= prod_df.finished_time - pd.Timedelta(minutes=90))]\n",
    "    t = (pd.Timestamp.now() - t0).value\n",
    "    if prod_results.size == 0:\n",
    "        return pd.Series({'finished_time': None, 'debug_time': t})\n",
    "    else:\n",
    "        return pd.Series({'finished_time': prod_results.iloc[0].finished_time, 'debug_time': t})\n",
    "\n",
    "t0 = pd.Timestamp.now()\n",
    "measure_df[['finished_time', 'debug_time']] = measure_df['timestamp'].apply(lambda ts: merge_v1(ts, prod_df))\n",
    "measure_df['debug_time_ms'] = measure_df.debug_time.apply(lambda x: nano2milli(x))\n",
    "t = (pd.Timestamp.now() - t0).value\n",
    "\n",
    "print('Done! Total time: {0:.4f}s, Time per measurement: {1:.4f}ms'.format(nano2sec(t), nano2milli(t) / measure_df.shape[0]))\n",
    "\n",
    "measure_df.head(10)"
   ]
  },
  {
   "cell_type": "code",
   "execution_count": 26,
   "metadata": {},
   "outputs": [
    {
     "data": {
      "text/plain": [
       "count    2880.000000\n",
       "mean        3.183292\n",
       "std         1.477636\n",
       "min         1.999000\n",
       "25%         2.998000\n",
       "50%         2.999000\n",
       "75%         3.000000\n",
       "90%         3.998000\n",
       "95%         3.999000\n",
       "99%         4.000000\n",
       "max        79.963000\n",
       "Name: debug_time_ms, dtype: float64"
      ]
     },
     "execution_count": 26,
     "metadata": {},
     "output_type": "execute_result"
    }
   ],
   "source": [
    "measure_df.debug_time_ms.describe(percentiles=[.25, .5, .75, .9, .95, .99]).T"
   ]
  },
  {
   "cell_type": "code",
   "execution_count": 91,
   "metadata": {},
   "outputs": [],
   "source": [
    "selected_measure_df = measure_df.loc[measure_df.finished_time != None]\n",
    "selected_measure_df.to_csv('selected_measurements.tsv', sep='\\t', index=False)"
   ]
  },
  {
   "cell_type": "code",
   "execution_count": 62,
   "metadata": {},
   "outputs": [
    {
     "data": {
      "text/plain": [
       "Timestamp('2018-01-01 10:30:14')"
      ]
     },
     "execution_count": 62,
     "metadata": {},
     "output_type": "execute_result"
    }
   ],
   "source": [
    "prod_results.iloc[0].finished_time"
   ]
  },
  {
   "cell_type": "code",
   "execution_count": 78,
   "metadata": {},
   "outputs": [],
   "source": [
    "t0 = pd.Timestamp.now()"
   ]
  },
  {
   "cell_type": "code",
   "execution_count": 79,
   "metadata": {},
   "outputs": [],
   "source": [
    "t1 = pd.Timestamp.now()"
   ]
  },
  {
   "cell_type": "code",
   "execution_count": 87,
   "metadata": {},
   "outputs": [],
   "source": [
    "td = t1 - t0"
   ]
  },
  {
   "cell_type": "code",
   "execution_count": 94,
   "metadata": {},
   "outputs": [
    {
     "data": {
      "text/plain": [
       "3"
      ]
     },
     "execution_count": 94,
     "metadata": {},
     "output_type": "execute_result"
    }
   ],
   "source": [
    "nano2sec = lambda x: x / 10 ** 9 # convert nanoseconds to seconds\n",
    "nano2milli = lambda x: int(x / 10 ** 6)  # convert nanoseconds to milliseconds\n",
    "\n",
    "nano2milli(3998000)"
   ]
  },
  {
   "cell_type": "code",
   "execution_count": 95,
   "metadata": {},
   "outputs": [
    {
     "data": {
      "text/plain": [
       "<matplotlib.axes._subplots.AxesSubplot at 0x12c2fe962b0>"
      ]
     },
     "execution_count": 95,
     "metadata": {},
     "output_type": "execute_result"
    }
   ],
   "source": [
    "measure_df.debug_time.plot()"
   ]
  },
  {
   "cell_type": "code",
   "execution_count": 23,
   "metadata": {},
   "outputs": [
    {
     "data": {
      "text/plain": [
       "<matplotlib.axes._subplots.AxesSubplot at 0x240d0670748>"
      ]
     },
     "execution_count": 23,
     "metadata": {},
     "output_type": "execute_result"
    },
    {
     "data": {
      "image/png": "[encoded data removed]",
      "text/plain": [
       "<Figure size 1440x360 with 1 Axes>"
      ]
     },
     "metadata": {},
     "output_type": "display_data"
    }
   ],
   "source": [
    "sns.set(rc={'figure.figsize':(20, 5)})\n",
    "\n",
    "sns.lineplot(x=\"timestamp\", y=\"debug_time_ms\", data=measure_df)"
   ]
  },
  {
   "cell_type": "code",
   "execution_count": 7,
   "metadata": {},
   "outputs": [
    {
     "name": "stdout",
     "output_type": "stream",
     "text": [
      "0.9.0\n"
     ]
    }
   ],
   "source": [
    "print(sns.__version__)"
   ]
  },
  {
   "cell_type": "code",
   "execution_count": null,
   "metadata": {},
   "outputs": [],
   "source": []
  }
 ],
 "metadata": {
  "kernelspec": {
   "display_name": "Python 3",
   "language": "python",
   "name": "python3"
  },
  "language_info": {
   "codemirror_mode": {
    "name": "ipython",
    "version": 3
   },
   "file_extension": ".py",
   "mimetype": "text/x-python",
   "name": "python",
   "nbconvert_exporter": "python",
   "pygments_lexer": "ipython3",
   "version": "3.6.5"
  }
 },
 "nbformat": 4,
 "nbformat_minor": 2
}
